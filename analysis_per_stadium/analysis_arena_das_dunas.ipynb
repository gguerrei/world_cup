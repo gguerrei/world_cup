{
 "cells": [
  {
   "cell_type": "code",
   "execution_count": 48,
   "metadata": {},
   "outputs": [],
   "source": [
    "import pdfplumber\n",
    "import pandas as pd"
   ]
  },
  {
   "cell_type": "code",
   "execution_count": 49,
   "metadata": {},
   "outputs": [],
   "source": [
    "pdf = pdfplumber.open('/Users/Gui/Desktop/code/world_cup_code/PDF_stadium_usage/ARENA DAS DUNAS/combined_dunas.pdf')"
   ]
  },
  {
   "cell_type": "code",
   "execution_count": 50,
   "metadata": {},
   "outputs": [
    {
     "name": "stdout",
     "output_type": "stream",
     "text": [
      "= sse aeres EVIE RATS (RS) ESTADIO\n",
      "HorDéartiao:: 19:00 ‘ANradoesi n Duana s\n",
      "Competicte: “(ofc Amistowo: Cl Amado\n",
      "i\n",
      "Bee\n",
      "Gategorla: Internacional: (] Interestadual; [2 Loca: O \\ ty x\n",
      "Denominagio da Compaticio CIDADE UE\n",
      "Gain: Bastar Sra 2028, Nata mu\n",
      "LOCALIDADE, Recebido Develido venoibos[Colunasi_ [PREGO Colunas2 | ARRECADAGAO_\n",
      "1 f° r AA nne et l taLe ss tt ee i nn ete ii ra 3 a95 , a305, e RS ‘305.0000 RfaFs 2|1.75 .00\n",
      "1° Anel Leste inteira -L2 235 25 RS 40,00 [RS TARO\n",
      "* A nA ane l L Le es st te M se ala ~ OL2 n a i‘5 a7 ‘5 a57, s Rs 2‘0s,o0o0 [faRsS 136.413405,.000)\n",
      "1A° nAsne l LNesoter eM ela e(rMusll er) -L2 Ey 2n3o . iRsS 2300,.000 I|RS . LO,30 9\n",
      "[1* Anel Noroeste Mola s 5 Rs 15,00 [RS 75,00)\n",
      "[1® Anel Noroeste Inteira -L2 5 5 RS 49,00 [RS 200,00)\n",
      "1 A nA ene l N No err eo ie s stM Nee ala a - W(2 h e) 4 a 4 3 iR ss 2 10 5, .0 00 [ eR sS 8405,0009)\n",
      "[t® Anel NoroestMeel a - (Mulhor) 2 2 RS: 20,00 ome\n",
      "|Cadeira Premium inteira EY 2 IRS. 120,00 JRS. se\n",
      "|Cadeira Premium Mela 2 92 IRS 00100 Rs: Seah)\n",
      "| cC sa ede ai er aa PrPr ee mmi iu men i Mnt ao ii ra -U- 2L 2 aW s1 s [Rs 1470o.0000 IeFRsS. 3s5e0n,0t0\n",
      "Goda Prem Onin) 7 7 iS: ea es 122099\n",
      "edera Premium: onino) 2 a a 7000s 0,9\n",
      "naressesPrnoconae Caen) 1737 iar [es 1500 85 7.05509\n",
      "|Gratuidade Por forgeda Lei 85 Rs IRS. su\n",
      "[Socio Torcedor - Leste 3252 3252 IRS Lia aad tbat)\n",
      "[S fo rc oi ro a L Tor Pc Ue Bd tor i co- Pr Pe Ami Gu am N: TE Ed a 353 72 8 [RS we 80,00 J _R |E a. s 178L .e 28e 5s 0a\n",
      "TOTALO POBLICO NAO PAGANTE i a =P\n",
      "[poatico Tora ne 3065 5p\n",
      "Bi = Aoi sone\n",
      "[est de Campo ae 30050\n",
      "seaur Torcdor aaa sez\n",
      "segue Arsireoem is =\n",
      "Tora Bilas 33a\n",
      "Ba Tanase poston\n",
      "fe\n",
      "ox (es\n",
      "ToraL Bales\n",
      "35: Despesse Operon\n",
      "[etiam Auilore,Ononndo,Fscle is 50,90\n",
      "| iIN rS aS e 2 t0% r ans so pbr oe r tA er bitragem j se ss . e 399l\n",
      "40 0\n",
      "f| oS ue sr dvi rc oo s Mavdo\n",
      "e\n",
      "!E xame Anti-Doping\n",
      "w el s ==\n",
      "[ns =24 sobre Gundro Mav ns =\n",
      "[kit exame antiloping\n",
      "0% WS sabre o senza cole de exe nonin R ns s = =\n",
      "espesae com WAR es 5\n",
      "[espesa com igresios romccionis(Coresin) es 75590\n",
      "Abuancis Ui complete + Mico « Enforoloe =\n",
      "espesas Admits (Arena) es aeziase\n",
      "Despesae Admnsvatves do Cube es 170080\n",
      "Despeeas com Sihwisgem ns =\n",
      "Rep. FHF Osigndo, Coreenador® Supervisor CBF FNF axa) es 2a\n",
      "Rep. FHF Detegado, Coordenador eS upardaor CBF /FNF (arias Transport] es 720,00\n",
      "[ns 20% Rep. FHF Delgado, Coordanadoreiacale es 400\n",
      "[oespesss Adminisvavas Fedora (FHF Conddua Atnboularncl ) rs 3\n",
      "ToTAL= Balas wT\n",
      "TOTAL DAS DESPESAS (atreRBalne ETE)\n",
      "Ss Despess Amnittva 1 (PAF\n",
      "as 3a\n",
      "WSs. ae desconte sobre a ennerag do Guado bv! Cube ns oo\n",
      "st de escort sobre a remunerago de Arbreger« Atalars dx Arbvagem es a\n",
      "s-11%4Rep. FHF Osepnde, Goordanador Fiscals a\n",
      "[Rr sobre Abie\n",
      "825]\n",
      "ins-11% ge desconto sobre aremsneragio ta mide do Exams Ani Gopi T ie om\n",
      "RENDA LUDA (REGETTADESPESAS) i es 35.303,64]\n",
      "DIVDA IRESNDAK LIOQUI DA AN a\n",
      "‘America FC (RN)\n",
      "Federagao Norte Ap scnenae ‘de Futebol\n"
     ]
    }
   ],
   "source": [
    "first_game = pdf.pages[0]\n",
    "first_game_text = first_game.extract_text()\n",
    "print(first_game_text)"
   ]
  },
  {
   "cell_type": "code",
   "execution_count": 51,
   "metadata": {},
   "outputs": [
    {
     "name": "stdout",
     "output_type": "stream",
     "text": [
      "BOLETIM FINANCEIRO\n",
      "América FC (RN) x Botafogo FC (PB) ESTADIO\n",
      "Data: 13/05/2023\n",
      "Horario: 21:30\n",
      "Competigao: Oficial: Amistoso: O Amador: O BF N° 08/2023\n",
      "Categoria: Internacional: _Interestadual: Local:\n",
      "Denominagao da Competic¢ao CIDADE UF\n",
      "Camp. Brasileiro Série C 2023 . Natal RN\n",
      "LOCALIDADE Recebido Devolvido VENDIDOS | PREGO ARRECADAGAO\n",
      "1° Anel Leste Inteira 228 228 R$ 40,00 [R$ 9.120,00\n",
      "1° Anel Leste Meia 1277 1277 RS \" 20,00 |R$ 25.540,00\n",
      "4° Anel Leste Meia (Mulher) 472 472 R$ 20,00 [R$ 9.440,00\n",
      "1° Anel Noroeste Inteira 285 285 R$ 40,00 [R$ 11.400,00\n",
      "1° Anel Noroeste Meia 204 204 R$ 20,00 {R$ 4.080,00\n",
      "1° Anel Noroeste Meia - (Mulher) 59 59 R$ 20,00 |R$ 1,180,00\n",
      "Cadeira Premium Inteira 26 26 R$ 120,00 |R$ 3.120,00\n",
      "Cadeira Premium Meia 109 109 R$ 60,00 {R$ 6.540,00\n",
      "Cadeira Premium - (Mulher) 57 57 R$ 60,00 [R$ 3.420,00\n",
      "lingressos Promocionais (Cortesias) 1453 1453 RS 20,00 JR$ 29.060,00\n",
      "Gratuidade Por forca da Lei 7 7 IRS - RS 0,00\n",
      "Socio Torcedor - Leste 2849 2849 R$ 20,00 {R$ §6.980,00)\n",
      "Socio Torcedor - Premium 252 252 RS 60,00 [R$ 15.120,00\n",
      "TOTAL PUBLICO PAGANTE 0 7.271 RS 175.000,00\n",
      "TOTALO PUBLICO NAO PAGANTE 77\n",
      "PUBLICO TOTAL 7.348\n",
      "B1 - Aluguéis e seguros\n",
      "Aluguel de Campo R$ 9.000,00\n",
      "Seguro Torcedor 0,04|R$ 293,92\n",
      "Seguro Arbitragem R$ °\n",
      "TOTAL - B1IR$ 9.293,92\n",
      "B2 - Taxas e Impostos\n",
      "Federagao Local 5% R$ 8.750,00\n",
      "5% - INSS 5% RS 8.750,00\n",
      "TOTAL - B2jR$ 17.500,00\n",
      "B3 - Despesas Operacionais\n",
      "Ar 9 Auxiliares, Deleg: Fiscais R$ 7.180,00\n",
      "INSS 20% sobre Arbitragem R$ 2.379,18\n",
      "Diaria e Transporte R$ 4.715,90\n",
      "Servigos do Exame Anti-Doping R$ =f\n",
      "Quadro Mével R$ :\n",
      "INSS - 20% sobre o Quadro Mével RS :\n",
      "Kit exame anti-doping R$ :\n",
      "20% INSS sobre o servicgo de coleta de exame anti-doping R$ :\n",
      "Despesas com WAR R$ -\n",
      "Despesa com Ingressos Promocionais(Cortesias) R$ 29.060,00\n",
      "2 Abulancias UTI completas + Médico e Enfermeiros RS -\n",
      "Despesas Administrativas (Arena) R$ 61.098,17\n",
      "Desp A do Clube (A R$ 1.100,00\n",
      "Despesas com Bilhetagem R$ -\n",
      "Rep. FNF Delegado, Coordenador e Supervisor CBF / FNF (Taxa) RS 2.220,00\n",
      "Rep. FNF Delegado, Coordenador e Supervisor CBF / FNF (Diaria e Transporte) R$ 720,00\n",
      "INSS 20% Rep. FNF Delegado, Coordenador e Fiscais Py R$ 444,00\n",
      "Desp F ¢ao (FNF) (C da R$ -\n",
      "TOTAL - B3|R$ 108.917,25\n",
      "TOTAL DAS DESPESAS (B1+B2+B3)|R$ 135.711,17\n",
      "INSS Despesa Administrativa 11% (FNF) R$ 0,00\n",
      "|INSS-11% de sobre a do Quadro Mével Clube R$ 0,00\n",
      "[INSS-11% de sobre a da e Auxiliares da Arbitragem RS 126,56\n",
      "JINSS-11% Rep. FNF Delegado, Coordenador e Fiscais R$ 244,20\n",
      "|IRRF Sobre a Arbitragem R$ 290,13\n",
      "[INSS-11% de sobre a da m&o-de-obra do Exame Anti-Doping RS 0,00\n",
      "RENDA LIQUIDA (RECEITA - DESPESAS) [Rs 39.288,83\n",
      "DIVISAO DA RENDA LIQUIDA\n",
      "] ewe\n",
      "Amerie FC (RN) Federacao Norte Riograndense de Futebol\n"
     ]
    }
   ],
   "source": [
    "second_game = pdf.pages[1]\n",
    "second_game_text = second_game.extract_text()\n",
    "print(second_game_text)"
   ]
  },
  {
   "cell_type": "code",
   "execution_count": 52,
   "metadata": {},
   "outputs": [
    {
     "data": {
      "text/plain": [
       "['BOLETIM FINANCEIRO',\n",
       " 'América FC (RN) x Botafogo FC (PB) ESTADIO',\n",
       " 'Data: 13/05/2023',\n",
       " 'Horario: 21:30',\n",
       " 'Competigao: Oficial: Amistoso: O Amador: O BF N° 08/2023',\n",
       " 'Categoria: Internacional: _Interestadual: Local:',\n",
       " 'Denominagao da Competic¢ao CIDADE UF',\n",
       " 'Camp. Brasileiro Série C 2023 . Natal RN',\n",
       " 'LOCALIDADE Recebido Devolvido VENDIDOS | PREGO ARRECADAGAO',\n",
       " '1° Anel Leste Inteira 228 228 R$ 40,00 [R$ 9.120,00',\n",
       " '1° Anel Leste Meia 1277 1277 RS \" 20,00 |R$ 25.540,00',\n",
       " '4° Anel Leste Meia (Mulher) 472 472 R$ 20,00 [R$ 9.440,00',\n",
       " '1° Anel Noroeste Inteira 285 285 R$ 40,00 [R$ 11.400,00',\n",
       " '1° Anel Noroeste Meia 204 204 R$ 20,00 {R$ 4.080,00',\n",
       " '1° Anel Noroeste Meia - (Mulher) 59 59 R$ 20,00 |R$ 1,180,00',\n",
       " 'Cadeira Premium Inteira 26 26 R$ 120,00 |R$ 3.120,00',\n",
       " 'Cadeira Premium Meia 109 109 R$ 60,00 {R$ 6.540,00',\n",
       " 'Cadeira Premium - (Mulher) 57 57 R$ 60,00 [R$ 3.420,00',\n",
       " 'lingressos Promocionais (Cortesias) 1453 1453 RS 20,00 JR$ 29.060,00',\n",
       " 'Gratuidade Por forca da Lei 7 7 IRS - RS 0,00',\n",
       " 'Socio Torcedor - Leste 2849 2849 R$ 20,00 {R$ §6.980,00)',\n",
       " 'Socio Torcedor - Premium 252 252 RS 60,00 [R$ 15.120,00',\n",
       " 'TOTAL PUBLICO PAGANTE 0 7.271 RS 175.000,00',\n",
       " 'TOTALO PUBLICO NAO PAGANTE 77',\n",
       " 'PUBLICO TOTAL 7.348',\n",
       " 'B1 - Aluguéis e seguros',\n",
       " 'Aluguel de Campo R$ 9.000,00',\n",
       " 'Seguro Torcedor 0,04|R$ 293,92',\n",
       " 'Seguro Arbitragem R$ °',\n",
       " 'TOTAL - B1IR$ 9.293,92',\n",
       " 'B2 - Taxas e Impostos',\n",
       " 'Federagao Local 5% R$ 8.750,00',\n",
       " '5% - INSS 5% RS 8.750,00',\n",
       " 'TOTAL - B2jR$ 17.500,00',\n",
       " 'B3 - Despesas Operacionais',\n",
       " 'Ar 9 Auxiliares, Deleg: Fiscais R$ 7.180,00',\n",
       " 'INSS 20% sobre Arbitragem R$ 2.379,18',\n",
       " 'Diaria e Transporte R$ 4.715,90',\n",
       " 'Servigos do Exame Anti-Doping R$ =f',\n",
       " 'Quadro Mével R$ :',\n",
       " 'INSS - 20% sobre o Quadro Mével RS :',\n",
       " 'Kit exame anti-doping R$ :',\n",
       " '20% INSS sobre o servicgo de coleta de exame anti-doping R$ :',\n",
       " 'Despesas com WAR R$ -',\n",
       " 'Despesa com Ingressos Promocionais(Cortesias) R$ 29.060,00',\n",
       " '2 Abulancias UTI completas + Médico e Enfermeiros RS -',\n",
       " 'Despesas Administrativas (Arena) R$ 61.098,17',\n",
       " 'Desp A do Clube (A R$ 1.100,00',\n",
       " 'Despesas com Bilhetagem R$ -',\n",
       " 'Rep. FNF Delegado, Coordenador e Supervisor CBF / FNF (Taxa) RS 2.220,00',\n",
       " 'Rep. FNF Delegado, Coordenador e Supervisor CBF / FNF (Diaria e Transporte) R$ 720,00',\n",
       " 'INSS 20% Rep. FNF Delegado, Coordenador e Fiscais Py R$ 444,00',\n",
       " 'Desp F ¢ao (FNF) (C da R$ -',\n",
       " 'TOTAL - B3|R$ 108.917,25',\n",
       " 'TOTAL DAS DESPESAS (B1+B2+B3)|R$ 135.711,17',\n",
       " 'INSS Despesa Administrativa 11% (FNF) R$ 0,00',\n",
       " '|INSS-11% de sobre a do Quadro Mével Clube R$ 0,00',\n",
       " '[INSS-11% de sobre a da e Auxiliares da Arbitragem RS 126,56',\n",
       " 'JINSS-11% Rep. FNF Delegado, Coordenador e Fiscais R$ 244,20',\n",
       " '|IRRF Sobre a Arbitragem R$ 290,13',\n",
       " '[INSS-11% de sobre a da m&o-de-obra do Exame Anti-Doping RS 0,00',\n",
       " 'RENDA LIQUIDA (RECEITA - DESPESAS) [Rs 39.288,83',\n",
       " 'DIVISAO DA RENDA LIQUIDA',\n",
       " '] ewe',\n",
       " 'Amerie FC (RN) Federacao Norte Riograndense de Futebol']"
      ]
     },
     "execution_count": 52,
     "metadata": {},
     "output_type": "execute_result"
    }
   ],
   "source": [
    "second_game_text_clean = second_game_text.split('\\n')\n",
    "second_game_text_clean"
   ]
  },
  {
   "cell_type": "code",
   "execution_count": 53,
   "metadata": {},
   "outputs": [
    {
     "data": {
      "text/plain": [
       "['lingressos Promocionais (Cortesias) 1453 1453 RS 20,00 JR$ 29.060,00',\n",
       " 'Gratuidade Por forca da Lei 7 7 IRS - RS 0,00']"
      ]
     },
     "execution_count": 53,
     "metadata": {},
     "output_type": "execute_result"
    }
   ],
   "source": [
    "free_tickets = []\n",
    "for sentences in second_game_text_clean:\n",
    "    if 'Despesa' in sentences:\n",
    "        continue \n",
    "    if 'Cortesias' in sentences:\n",
    "        free_tickets.append(sentences)\n",
    "    if 'Gratuidade' in sentences:\n",
    "        free_tickets.append(sentences)\n",
    "free_tickets"
   ]
  },
  {
   "cell_type": "code",
   "execution_count": 54,
   "metadata": {},
   "outputs": [
    {
     "data": {
      "text/plain": [
       "['1453', '7']"
      ]
     },
     "execution_count": 54,
     "metadata": {},
     "output_type": "execute_result"
    }
   ],
   "source": [
    "free_tickets_numbers = [sentence.split()[-5] for sentence in free_tickets]\n",
    "free_tickets_numbers"
   ]
  },
  {
   "cell_type": "code",
   "execution_count": 55,
   "metadata": {},
   "outputs": [],
   "source": [
    "for numbers in range(len(free_tickets_numbers)):\n",
    "    free_tickets_numbers[numbers] = int(free_tickets_numbers[numbers])"
   ]
  },
  {
   "cell_type": "code",
   "execution_count": 56,
   "metadata": {},
   "outputs": [
    {
     "data": {
      "text/plain": [
       "[1460]"
      ]
     },
     "execution_count": 56,
     "metadata": {},
     "output_type": "execute_result"
    }
   ],
   "source": [
    "free_tickets_numbers_list = [sum(free_tickets_numbers)]\n",
    "free_tickets_numbers_list"
   ]
  },
  {
   "cell_type": "code",
   "execution_count": 59,
   "metadata": {},
   "outputs": [
    {
     "data": {
      "text/plain": [
       "[[],\n",
       " 0,\n",
       " 1460,\n",
       " 0,\n",
       " 121,\n",
       " 1811,\n",
       " 0,\n",
       " [],\n",
       " [],\n",
       " [],\n",
       " 0,\n",
       " 0,\n",
       " 0,\n",
       " 0,\n",
       " [],\n",
       " 2986,\n",
       " [],\n",
       " 2416,\n",
       " 2414]"
      ]
     },
     "execution_count": 59,
     "metadata": {},
     "output_type": "execute_result"
    }
   ],
   "source": [
    "free_tickets_numbers_list = []\n",
    "\n",
    "for i in range(0, 13):\n",
    "    game = pdf.pages[i]\n",
    "    game_text = game.extract_text()\n",
    "    game_text_clean = game_text.split('\\n')\n",
    "    free_tickets_buffer = []\n",
    "    for sentences in game_text_clean:\n",
    "        if 'Despesa' in sentences:\n",
    "            continue \n",
    "        if 'Cortesias' in sentences:\n",
    "            free_tickets_buffer.append(sentences)\n",
    "        if 'Gratuidade' in sentences:\n",
    "            free_tickets_buffer.append(sentences)\n",
    "    free_tickets_buffer = [sentence.split()[-5] if len(sentence.split()) >= 5 else '' for sentence in free_tickets_buffer]\n",
    "    for numbers in range(len(free_tickets_buffer)):\n",
    "        free_tickets_buffer[numbers] = free_tickets_buffer[numbers].replace('.', '')\n",
    "        try:\n",
    "            free_tickets_buffer[numbers] = int(free_tickets_buffer[numbers])\n",
    "        except ValueError:\n",
    "            free_tickets_numbers_list.append([])\n",
    "            free_tickets_buffer[numbers] = 0\n",
    "            continue\n",
    "    free_tickets_buffer = sum(free_tickets_buffer)\n",
    "    free_tickets_numbers_list.append(free_tickets_buffer)\n",
    "\n",
    "free_tickets_numbers_list"
   ]
  },
  {
   "cell_type": "code",
   "execution_count": 64,
   "metadata": {},
   "outputs": [],
   "source": [
    "#Issue: Pdfs are not in the same format nor quality, so the code is not able to extract the data correctly either because of standardization or because the OCR didn't work properly.\n",
    "#For the sake of the project, I will manually input the data, but I will keep the code for future reference."
   ]
  },
  {
   "cell_type": "code",
   "execution_count": 65,
   "metadata": {},
   "outputs": [
    {
     "data": {
      "text/plain": [
       "[1822, 1460, 1805, 2244, 1811, 2252, 3128, 2986, 2414, 3448]"
      ]
     },
     "execution_count": 65,
     "metadata": {},
     "output_type": "execute_result"
    }
   ],
   "source": [
    "free_tickets_numbers_list = [] \n",
    "free_tickets_numbers_list = [1737+85,1460,1724+81,2123+121,1024+673+114,988+152+988+124,581+946+1464+41+96,2256+590+140,878+287+1148+101,1394+1453+395+73+133]\n",
    "free_tickets_numbers_list"
   ]
  },
  {
   "cell_type": "code",
   "execution_count": 66,
   "metadata": {},
   "outputs": [],
   "source": [
    "games_id = 'N° 06/2023', 'N° 08/2023', 'N° 09/2023', 'N° 10/2023', 'N° 13/2023', 'N° 14/2023', 'N° 15/2023', 'N° 12/2023', 'N° 17/2023', 'N° 18/2023'"
   ]
  },
  {
   "cell_type": "code",
   "execution_count": 67,
   "metadata": {},
   "outputs": [
    {
     "data": {
      "text/plain": [
       "{'N° 06/2023': 1822,\n",
       " 'N° 08/2023': 1460,\n",
       " 'N° 09/2023': 1805,\n",
       " 'N° 10/2023': 2244,\n",
       " 'N° 13/2023': 1811,\n",
       " 'N° 14/2023': 2252,\n",
       " 'N° 15/2023': 3128,\n",
       " 'N° 12/2023': 2986,\n",
       " 'N° 17/2023': 2414,\n",
       " 'N° 18/2023': 3448}"
      ]
     },
     "execution_count": 67,
     "metadata": {},
     "output_type": "execute_result"
    }
   ],
   "source": [
    "games_id_free_tickets = {games_id[i]: free_tickets_numbers_list[i] for i in range(len(games_id))}\n",
    "games_id_free_tickets"
   ]
  },
  {
   "cell_type": "code",
   "execution_count": 69,
   "metadata": {},
   "outputs": [
    {
     "data": {
      "text/html": [
       "<div>\n",
       "<style scoped>\n",
       "    .dataframe tbody tr th:only-of-type {\n",
       "        vertical-align: middle;\n",
       "    }\n",
       "\n",
       "    .dataframe tbody tr th {\n",
       "        vertical-align: top;\n",
       "    }\n",
       "\n",
       "    .dataframe thead th {\n",
       "        text-align: right;\n",
       "    }\n",
       "</style>\n",
       "<table border=\"1\" class=\"dataframe\">\n",
       "  <thead>\n",
       "    <tr style=\"text-align: right;\">\n",
       "      <th></th>\n",
       "      <th>Game ID</th>\n",
       "      <th>Free Tickets</th>\n",
       "    </tr>\n",
       "  </thead>\n",
       "  <tbody>\n",
       "    <tr>\n",
       "      <th>0</th>\n",
       "      <td>N° 06/2023</td>\n",
       "      <td>1822</td>\n",
       "    </tr>\n",
       "    <tr>\n",
       "      <th>1</th>\n",
       "      <td>N° 08/2023</td>\n",
       "      <td>1460</td>\n",
       "    </tr>\n",
       "    <tr>\n",
       "      <th>2</th>\n",
       "      <td>N° 09/2023</td>\n",
       "      <td>1805</td>\n",
       "    </tr>\n",
       "    <tr>\n",
       "      <th>3</th>\n",
       "      <td>N° 10/2023</td>\n",
       "      <td>2244</td>\n",
       "    </tr>\n",
       "    <tr>\n",
       "      <th>4</th>\n",
       "      <td>N° 13/2023</td>\n",
       "      <td>1811</td>\n",
       "    </tr>\n",
       "    <tr>\n",
       "      <th>5</th>\n",
       "      <td>N° 14/2023</td>\n",
       "      <td>2252</td>\n",
       "    </tr>\n",
       "    <tr>\n",
       "      <th>6</th>\n",
       "      <td>N° 15/2023</td>\n",
       "      <td>3128</td>\n",
       "    </tr>\n",
       "    <tr>\n",
       "      <th>7</th>\n",
       "      <td>N° 12/2023</td>\n",
       "      <td>2986</td>\n",
       "    </tr>\n",
       "    <tr>\n",
       "      <th>8</th>\n",
       "      <td>N° 17/2023</td>\n",
       "      <td>2414</td>\n",
       "    </tr>\n",
       "    <tr>\n",
       "      <th>9</th>\n",
       "      <td>N° 18/2023</td>\n",
       "      <td>3448</td>\n",
       "    </tr>\n",
       "  </tbody>\n",
       "</table>\n",
       "</div>"
      ],
      "text/plain": [
       "      Game ID  Free Tickets\n",
       "0  N° 06/2023          1822\n",
       "1  N° 08/2023          1460\n",
       "2  N° 09/2023          1805\n",
       "3  N° 10/2023          2244\n",
       "4  N° 13/2023          1811\n",
       "5  N° 14/2023          2252\n",
       "6  N° 15/2023          3128\n",
       "7  N° 12/2023          2986\n",
       "8  N° 17/2023          2414\n",
       "9  N° 18/2023          3448"
      ]
     },
     "execution_count": 69,
     "metadata": {},
     "output_type": "execute_result"
    }
   ],
   "source": [
    "df = pd.DataFrame(list(games_id_free_tickets.items()), columns = ['Game ID', 'Free Tickets'])\n",
    "df"
   ]
  },
  {
   "cell_type": "code",
   "execution_count": 70,
   "metadata": {},
   "outputs": [],
   "source": [
    "total_tickets = [9063,7348,8471,10412,13950,14057,13661,15633,11886,21735]"
   ]
  },
  {
   "cell_type": "code",
   "execution_count": 73,
   "metadata": {},
   "outputs": [
    {
     "data": {
      "text/html": [
       "<div>\n",
       "<style scoped>\n",
       "    .dataframe tbody tr th:only-of-type {\n",
       "        vertical-align: middle;\n",
       "    }\n",
       "\n",
       "    .dataframe tbody tr th {\n",
       "        vertical-align: top;\n",
       "    }\n",
       "\n",
       "    .dataframe thead th {\n",
       "        text-align: right;\n",
       "    }\n",
       "</style>\n",
       "<table border=\"1\" class=\"dataframe\">\n",
       "  <thead>\n",
       "    <tr style=\"text-align: right;\">\n",
       "      <th></th>\n",
       "      <th>Game ID</th>\n",
       "      <th>Free Tickets</th>\n",
       "      <th>Total Tickets</th>\n",
       "      <th>Percentage of Free Tickets</th>\n",
       "      <th>Percentage of Stadium Used</th>\n",
       "    </tr>\n",
       "  </thead>\n",
       "  <tbody>\n",
       "    <tr>\n",
       "      <th>0</th>\n",
       "      <td>N° 06/2023</td>\n",
       "      <td>1822</td>\n",
       "      <td>9063</td>\n",
       "      <td>20.103718</td>\n",
       "      <td>28.886056</td>\n",
       "    </tr>\n",
       "    <tr>\n",
       "      <th>1</th>\n",
       "      <td>N° 08/2023</td>\n",
       "      <td>1460</td>\n",
       "      <td>7348</td>\n",
       "      <td>19.869352</td>\n",
       "      <td>23.419920</td>\n",
       "    </tr>\n",
       "    <tr>\n",
       "      <th>2</th>\n",
       "      <td>N° 09/2023</td>\n",
       "      <td>1805</td>\n",
       "      <td>8471</td>\n",
       "      <td>21.307992</td>\n",
       "      <td>26.999203</td>\n",
       "    </tr>\n",
       "    <tr>\n",
       "      <th>3</th>\n",
       "      <td>N° 10/2023</td>\n",
       "      <td>2244</td>\n",
       "      <td>10412</td>\n",
       "      <td>21.552055</td>\n",
       "      <td>33.185657</td>\n",
       "    </tr>\n",
       "    <tr>\n",
       "      <th>4</th>\n",
       "      <td>N° 13/2023</td>\n",
       "      <td>1811</td>\n",
       "      <td>13950</td>\n",
       "      <td>12.982079</td>\n",
       "      <td>44.462151</td>\n",
       "    </tr>\n",
       "    <tr>\n",
       "      <th>5</th>\n",
       "      <td>N° 14/2023</td>\n",
       "      <td>2252</td>\n",
       "      <td>14057</td>\n",
       "      <td>16.020488</td>\n",
       "      <td>44.803187</td>\n",
       "    </tr>\n",
       "    <tr>\n",
       "      <th>6</th>\n",
       "      <td>N° 15/2023</td>\n",
       "      <td>3128</td>\n",
       "      <td>13661</td>\n",
       "      <td>22.897299</td>\n",
       "      <td>43.541036</td>\n",
       "    </tr>\n",
       "    <tr>\n",
       "      <th>7</th>\n",
       "      <td>N° 12/2023</td>\n",
       "      <td>2986</td>\n",
       "      <td>15633</td>\n",
       "      <td>19.100620</td>\n",
       "      <td>49.826295</td>\n",
       "    </tr>\n",
       "    <tr>\n",
       "      <th>8</th>\n",
       "      <td>N° 17/2023</td>\n",
       "      <td>2414</td>\n",
       "      <td>11886</td>\n",
       "      <td>20.309608</td>\n",
       "      <td>37.883665</td>\n",
       "    </tr>\n",
       "    <tr>\n",
       "      <th>9</th>\n",
       "      <td>N° 18/2023</td>\n",
       "      <td>3448</td>\n",
       "      <td>21735</td>\n",
       "      <td>15.863814</td>\n",
       "      <td>69.274900</td>\n",
       "    </tr>\n",
       "  </tbody>\n",
       "</table>\n",
       "</div>"
      ],
      "text/plain": [
       "      Game ID  Free Tickets  Total Tickets  Percentage of Free Tickets  \\\n",
       "0  N° 06/2023          1822           9063                   20.103718   \n",
       "1  N° 08/2023          1460           7348                   19.869352   \n",
       "2  N° 09/2023          1805           8471                   21.307992   \n",
       "3  N° 10/2023          2244          10412                   21.552055   \n",
       "4  N° 13/2023          1811          13950                   12.982079   \n",
       "5  N° 14/2023          2252          14057                   16.020488   \n",
       "6  N° 15/2023          3128          13661                   22.897299   \n",
       "7  N° 12/2023          2986          15633                   19.100620   \n",
       "8  N° 17/2023          2414          11886                   20.309608   \n",
       "9  N° 18/2023          3448          21735                   15.863814   \n",
       "\n",
       "   Percentage of Stadium Used  \n",
       "0                   28.886056  \n",
       "1                   23.419920  \n",
       "2                   26.999203  \n",
       "3                   33.185657  \n",
       "4                   44.462151  \n",
       "5                   44.803187  \n",
       "6                   43.541036  \n",
       "7                   49.826295  \n",
       "8                   37.883665  \n",
       "9                   69.274900  "
      ]
     },
     "execution_count": 73,
     "metadata": {},
     "output_type": "execute_result"
    }
   ],
   "source": [
    "df['Total Tickets'] = total_tickets\n",
    "df['Percentage of Free Tickets'] = (df['Free Tickets'] / df['Total Tickets'])*100\n",
    "df['Percentage of Stadium Used'] = (df['Total Tickets']/31375)*100\n",
    "df "
   ]
  },
  {
   "cell_type": "code",
   "execution_count": 74,
   "metadata": {},
   "outputs": [
    {
     "data": {
      "text/plain": [
       "19.00070262088865"
      ]
     },
     "execution_count": 74,
     "metadata": {},
     "output_type": "execute_result"
    }
   ],
   "source": [
    "df['Percentage of Free Tickets'].mean()"
   ]
  },
  {
   "cell_type": "code",
   "execution_count": 75,
   "metadata": {},
   "outputs": [
    {
     "data": {
      "text/plain": [
       "40.228207171314736"
      ]
     },
     "execution_count": 75,
     "metadata": {},
     "output_type": "execute_result"
    }
   ],
   "source": [
    "df['Percentage of Stadium Used'].mean()"
   ]
  },
  {
   "cell_type": "code",
   "execution_count": null,
   "metadata": {},
   "outputs": [],
   "source": []
  }
 ],
 "metadata": {
  "kernelspec": {
   "display_name": "world_cup_code-dS11vxWT",
   "language": "python",
   "name": "python3"
  },
  "language_info": {
   "codemirror_mode": {
    "name": "ipython",
    "version": 3
   },
   "file_extension": ".py",
   "mimetype": "text/x-python",
   "name": "python",
   "nbconvert_exporter": "python",
   "pygments_lexer": "ipython3",
   "version": "3.11.6"
  }
 },
 "nbformat": 4,
 "nbformat_minor": 2
}
