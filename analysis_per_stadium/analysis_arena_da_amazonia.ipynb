{
 "cells": [
  {
   "cell_type": "code",
   "execution_count": 107,
   "metadata": {},
   "outputs": [],
   "source": [
    "import pdfplumber\n",
    "import pandas as pd"
   ]
  },
  {
   "cell_type": "code",
   "execution_count": 108,
   "metadata": {},
   "outputs": [],
   "source": [
    "pdf = pdfplumber.open('/Users/Gui/Desktop/code/world_cup_code/PDF_stadium_usage/ARENA DA AMAZONIA/combined_amazonia.pdf')"
   ]
  },
  {
   "cell_type": "code",
   "execution_count": 109,
   "metadata": {},
   "outputs": [
    {
     "name": "stdout",
     "output_type": "stream",
     "text": [
      "BOLETIM FINANCEIRO\n",
      "MANAUS AM x NAUTICO PE ESTÁDIO\n",
      "DADOS Data: 02/05/2023 ARENA DA AMAZÔNIA\n",
      "JOGO Nº 09 Horário: 20:30\n",
      "Competição: Oficial: X Amistoso:\n",
      "Categoria: Internacional: Interestadual: X Local:\n",
      "Denominação da Competição CIDADE UF BF\n",
      "MANAUS Nº 09/ 23\n",
      "CAMPEONATO BRASILEIRO SERIE C AM\n",
      "LOCALIDADE CARGA DEVOLVIDOS UTILIZADOS PREÇO ARRECADAÇÃO\n",
      "Arquibancada INTEIRO 4000 3642 358 R$ 50,00 R$ 17.900,00\n",
      "S\n",
      "A Arq. Meia e Promocional 8000 5655 2345 R$ 25,00 R$ 58.625,00\n",
      "T\n",
      "IE Camarote 0 0 0 R$ R$ 0,00\n",
      "C\n",
      "E Cortesias e Convidados 3572 1584 1988 R$ R$\n",
      "R\n",
      "Sócio Torcedor 0 0 0 R$ R$\n",
      "TOTAIS 15572 10881 4691 R$ 76.525,00\n",
      "B1 - Aluguéis e seguros\n",
      "Seguro (Torcedor e arbitragem ) R$\n",
      "Estádio (operacional) R$\n",
      "Diferença para chegar ao valor da Taxa Mínima de Seguro R$\n",
      "R$\n",
      "TOTAL - B1 R$\n",
      "B2 - Taxas e Impostos\n",
      "5% - INSS R$ 3.826,25\n",
      "5% - FAF R$ 3.826,25\n",
      "5% - ISS R$ 3.826,25\n",
      "TOTAL - B2 R$ 11.478,75\n",
      "B3 - Despesas Operacionais\n",
      "Confecção, Emissão e Venda de Ingressos R$\n",
      "Organização e Coordenadores R$ 16.000,00\n",
      "Aluguel de gradil R$\n",
      "S\n",
      "A Controladores de Acesso (orientadores) R$ 32.200,00\n",
      "S\n",
      "E Segurança Privada R$ 22.500,00\n",
      "P\n",
      "S R$\n",
      "E\n",
      "D R$\n",
      "R$\n",
      "Despesas Quitadas de forma antecipada pelas EPD´s\n",
      "Árbitros e Árbitros Assistentes R$\n",
      "INSS - 20% sobre a remuneração Árbitros e Árbitros Assistentes R$\n",
      "Transporte da Arbitragem R$\n",
      "Colaborador Operacional R$ 790,00\n",
      "Transporte do colaborador Operacional R$\n",
      "Aluguel de Ambulância R$ 450,00\n",
      "Lanche (refrigerante, agua e sanduiche) policiamento R$ 280,00\n",
      "Apoio aos jogos (gandulas e maqueiros) R$ 400,00\n",
      "R$\n",
      "- R$\n",
      "TOTAL - B3 R$ 72.620,00\n",
      "S\n",
      "O TOTAL DAS DESPESAS (B1+B2+B3) R$ 84.098,75\n",
      "T\n",
      "N R$\n",
      "O R$\n",
      "C\n",
      "S R$\n",
      "E\n",
      "D R$\n",
      "RENDA LÍQUIDA (RECEITA - DESPESAS) R$ -7.573,75\n",
      "DIVISÃO DA RENDA LÍQUIDA\n",
      "DEDUÇÕES\n",
      "INSS - 5% sobre a Renda Bruta LÍQUIDO À RECEBER\n",
      "CLUBES VALOR PARC.ESPECIAL OUTRAS\n",
      "MANAUS AM 100% R$ (7.573,75)\n",
      "MANAUS AM Federação Amazonene de Futebol\n"
     ]
    }
   ],
   "source": [
    "first_game = pdf.pages[0]\n",
    "first_game_text = first_game.extract_text()\n",
    "print(first_game_text)"
   ]
  },
  {
   "cell_type": "code",
   "execution_count": 110,
   "metadata": {},
   "outputs": [
    {
     "data": {
      "text/plain": [
       "['BOLETIM FINANCEIRO',\n",
       " 'MANAUS AM x NAUTICO PE ESTÁDIO',\n",
       " 'DADOS Data: 02/05/2023 ARENA DA AMAZÔNIA',\n",
       " 'JOGO Nº 09 Horário: 20:30',\n",
       " 'Competição: Oficial: X Amistoso:',\n",
       " 'Categoria: Internacional: Interestadual: X Local:',\n",
       " 'Denominação da Competição CIDADE UF BF',\n",
       " 'MANAUS Nº 09/ 23',\n",
       " 'CAMPEONATO BRASILEIRO SERIE C AM',\n",
       " 'LOCALIDADE CARGA DEVOLVIDOS UTILIZADOS PREÇO ARRECADAÇÃO',\n",
       " 'Arquibancada INTEIRO 4000 3642 358 R$ 50,00 R$ 17.900,00',\n",
       " 'S',\n",
       " 'A Arq. Meia e Promocional 8000 5655 2345 R$ 25,00 R$ 58.625,00',\n",
       " 'T',\n",
       " 'IE Camarote 0 0 0 R$ R$ 0,00',\n",
       " 'C',\n",
       " 'E Cortesias e Convidados 3572 1584 1988 R$ R$',\n",
       " 'R',\n",
       " 'Sócio Torcedor 0 0 0 R$ R$',\n",
       " 'TOTAIS 15572 10881 4691 R$ 76.525,00',\n",
       " 'B1 - Aluguéis e seguros',\n",
       " 'Seguro (Torcedor e arbitragem ) R$',\n",
       " 'Estádio (operacional) R$',\n",
       " 'Diferença para chegar ao valor da Taxa Mínima de Seguro R$',\n",
       " 'R$',\n",
       " 'TOTAL - B1 R$',\n",
       " 'B2 - Taxas e Impostos',\n",
       " '5% - INSS R$ 3.826,25',\n",
       " '5% - FAF R$ 3.826,25',\n",
       " '5% - ISS R$ 3.826,25',\n",
       " 'TOTAL - B2 R$ 11.478,75',\n",
       " 'B3 - Despesas Operacionais',\n",
       " 'Confecção, Emissão e Venda de Ingressos R$',\n",
       " 'Organização e Coordenadores R$ 16.000,00',\n",
       " 'Aluguel de gradil R$',\n",
       " 'S',\n",
       " 'A Controladores de Acesso (orientadores) R$ 32.200,00',\n",
       " 'S',\n",
       " 'E Segurança Privada R$ 22.500,00',\n",
       " 'P',\n",
       " 'S R$',\n",
       " 'E',\n",
       " 'D R$',\n",
       " 'R$',\n",
       " 'Despesas Quitadas de forma antecipada pelas EPD´s',\n",
       " 'Árbitros e Árbitros Assistentes R$',\n",
       " 'INSS - 20% sobre a remuneração Árbitros e Árbitros Assistentes R$',\n",
       " 'Transporte da Arbitragem R$',\n",
       " 'Colaborador Operacional R$ 790,00',\n",
       " 'Transporte do colaborador Operacional R$',\n",
       " 'Aluguel de Ambulância R$ 450,00',\n",
       " 'Lanche (refrigerante, agua e sanduiche) policiamento R$ 280,00',\n",
       " 'Apoio aos jogos (gandulas e maqueiros) R$ 400,00',\n",
       " 'R$',\n",
       " '- R$',\n",
       " 'TOTAL - B3 R$ 72.620,00',\n",
       " 'S',\n",
       " 'O TOTAL DAS DESPESAS (B1+B2+B3) R$ 84.098,75',\n",
       " 'T',\n",
       " 'N R$',\n",
       " 'O R$',\n",
       " 'C',\n",
       " 'S R$',\n",
       " 'E',\n",
       " 'D R$',\n",
       " 'RENDA LÍQUIDA (RECEITA - DESPESAS) R$ -7.573,75',\n",
       " 'DIVISÃO DA RENDA LÍQUIDA',\n",
       " 'DEDUÇÕES',\n",
       " 'INSS - 5% sobre a Renda Bruta LÍQUIDO À RECEBER',\n",
       " 'CLUBES VALOR PARC.ESPECIAL OUTRAS',\n",
       " 'MANAUS AM 100% R$ (7.573,75)',\n",
       " 'MANAUS AM Federação Amazonene de Futebol']"
      ]
     },
     "execution_count": 110,
     "metadata": {},
     "output_type": "execute_result"
    }
   ],
   "source": [
    "first_game_text_clean = first_game_text.split('\\n')\n",
    "first_game_text_clean"
   ]
  },
  {
   "cell_type": "code",
   "execution_count": 111,
   "metadata": {},
   "outputs": [
    {
     "data": {
      "text/plain": [
       "['E Cortesias e Convidados 3572 1584 1988 R$ R$']"
      ]
     },
     "execution_count": 111,
     "metadata": {},
     "output_type": "execute_result"
    }
   ],
   "source": [
    "free_tickets = []\n",
    "for sentences in first_game_text_clean:\n",
    "    if 'Cortesias' in sentences:\n",
    "        free_tickets.append(sentences)\n",
    "\n",
    "free_tickets"
   ]
  },
  {
   "cell_type": "code",
   "execution_count": 112,
   "metadata": {},
   "outputs": [
    {
     "data": {
      "text/plain": [
       "['1988']"
      ]
     },
     "execution_count": 112,
     "metadata": {},
     "output_type": "execute_result"
    }
   ],
   "source": [
    "free_tickets_numbers = [sentence.split()[-3] for sentence in free_tickets]\n",
    "free_tickets_numbers"
   ]
  },
  {
   "cell_type": "code",
   "execution_count": 113,
   "metadata": {},
   "outputs": [
    {
     "data": {
      "text/plain": [
       "[1988]"
      ]
     },
     "execution_count": 113,
     "metadata": {},
     "output_type": "execute_result"
    }
   ],
   "source": [
    "for numbers in range(len(free_tickets_numbers)):\n",
    "    free_tickets_numbers_list = [int(free_tickets_numbers[numbers])]\n",
    "\n",
    "free_tickets_numbers_list"
   ]
  },
  {
   "cell_type": "code",
   "execution_count": 114,
   "metadata": {},
   "outputs": [
    {
     "data": {
      "text/plain": [
       "[1988, [], 1375, 1029, 1078, [], 1603, [], []]"
      ]
     },
     "execution_count": 114,
     "metadata": {},
     "output_type": "execute_result"
    }
   ],
   "source": [
    "for i in range(1,9):\n",
    "    game = pdf.pages[i]\n",
    "    game_text = game.extract_text()\n",
    "    game_text_clean = game_text.split('\\n')\n",
    "    free_tickets_buffer = []\n",
    "    for sentences in game_text_clean:\n",
    "        if 'Cortesias' in sentences:\n",
    "            free_tickets_buffer.append(sentences)\n",
    "    free_tickets_buffer = [sentence.split()[-3] for sentence in free_tickets_buffer]\n",
    "    if not free_tickets_buffer:\n",
    "        free_tickets_numbers_list.append([])\n",
    "        continue\n",
    "    for numbers in range(len(free_tickets_buffer)):\n",
    "        free_tickets_buffer[numbers] = free_tickets_buffer[numbers].replace('.', '')\n",
    "        try:\n",
    "            number = int(free_tickets_buffer[numbers])\n",
    "            free_tickets_numbers_list.append(number)\n",
    "        except ValueError:\n",
    "            free_tickets_numbers_list.append([])\n",
    "            continue\n",
    "\n",
    "free_tickets_numbers_list"
   ]
  },
  {
   "cell_type": "code",
   "execution_count": 115,
   "metadata": {},
   "outputs": [
    {
     "name": "stdout",
     "output_type": "stream",
     "text": [
      "1\n",
      "FEDERAGAO\n",
      "D\n",
      "AMAZONENSE\n",
      "om? DE FUTEBOL\n",
      "BOLETIM FINANCEIRO\n",
      "MANAUS AM __|x| ALTOS Pl ESTADIO\n",
      "DADOS] | (5 Data: 14/05/2023 ARENA DA AMAZONIA\n",
      "JOGO N° 029 Horarlo: 15:00\n",
      "Competigdo: Oficial [x] Amistoso:[_]\n",
      "Categoria: Internacional: LC] Interestadual: Local: | BRASILE! RAO\n",
      "Denominag4o da Competigao CIDADE UF SERIn'e\n",
      "CAMPEONATO BRASILEIRO SERIE C MANAUS aw |N° 29/ 23\n",
      "3 of ~ —— __ {{ A |_A r C|r oq Cq ra.u tm i ea sb rM ia oe atin sa ecL aO edC\n",
      "e\n",
      "aA P CL r oI o nID m vA N o iD T c dE E i\n",
      "a\n",
      "I o dR n oO a sl C 1 5A 4 0 0R 5 9 00G 5\n",
      "0\n",
      "A DEVO 243L 858V 34 3I\n",
      "8\n",
      "D OS | UTIL 26I 16 4Z 0 66 2 A\n",
      "2\n",
      "D OS R R R RS $ $\n",
      "S\n",
      "PREGO 5 250 ,, 00 00 |} RR ) R\n",
      "R\n",
      "$ ARRECADACA 1O 63 .. 03 50 00 0,, ,00 000 0\n",
      "/[Sdcio Torc Ted Oo Tr A IS 6545 3675 280 7 0 R$ |[R R $ 19.350,00\n",
      "Ai Si endef asa oe tons a B1 - Aluguéls e seguros\n",
      "[ES se tg au dr io o ( (T oo pr ec re ad co ir o nae l )a rbitragem ) R R $\n",
      ". Diferenga para chegar ao valor da Taxa Minima de Seguro R\n",
      "R\n",
      "TOTAL - B1 R$\n",
      "B2 -Taxas e Impostos\n",
      "R$ 967,50\n",
      "5% -INSS R 967,50\n",
      "5% - FAF R 967,50\n",
      "5%e T - ISS TT TOTAL~B2 R$ 2.902,50\n",
      "x A ee tas Ori B3 = Despesas Operacionais\n",
      "C Oo rn gf ae nc ic za ao g,\n",
      "a o\n",
      "Em\n",
      "e\n",
      "is Cs oa oo\n",
      "r\n",
      "dee naV de on rd ea\n",
      "s\n",
      "de Ingressos RR 20.500,00\n",
      "A SCl eou n gg t uu r re o al l n a gdd ae o reg Pr s ra idi vdl ae d aA cesso (orientadores) RR R R 17 5. .6 00 00 0, ,0 00 0\n",
      "guadro movel R 4.200,00\n",
      "Logistica\n",
      "RS\n",
      "{ Tj Despesas Quitadas de forma antecipada pelas EPD!s#7\n",
      "Arbitros e Arbitros Assistentes Rg\n",
      "TT CI rr oN aa lS nnS a ss b pp o o- o r rr2 a tt0 d ee o% r d d oas Oo pb A cer r oe rb l ai act ba i r ooa rr ng ae ae dm lm ou rn er Oa pec ra ao c ioA nrb ai lt ros e Arbitros Assistentes R R R R Rg\n",
      "Aluguel de Ambulancia\n",
      "_{ AL pa on ic oh e ao( sr e jf or gig oe sr an (t ge a,\n",
      "n\n",
      "dua lg au sa ee ms aa qnd uu ei ic rh oe s)\n",
      ")\n",
      "policiamento R R:\n",
      "R\n",
      ": - |R\n",
      "tabs | TOTALS BS R$\n",
      "TOTAL DAS DESPESAS (B1+B2+B3) ° eos\n",
      "N\n",
      "it RENDA LIQUIDA (RECEITA - DESPESAS) I\n",
      "DIVISAO DA RENDA LTQUIDA\n",
      "DEDUCGOES ial sy\n",
      "| Liquino A RECEBER\n",
      "CLUBES VALOR OU 1T 0R 0A % S [R$ (32.772,50)}\n",
      "[MANAUS AM\n",
      "Nico Leh ouins Wo BRS\n",
      "MANAUS AM ederagao Amazorene de Futebol\n",
      "Scanned with CamScanner\n"
     ]
    }
   ],
   "source": [
    "second_game = pdf.pages[1]\n",
    "second_game_text = second_game.extract_text()\n",
    "print(second_game_text)"
   ]
  },
  {
   "cell_type": "code",
   "execution_count": 129,
   "metadata": {},
   "outputs": [],
   "source": [
    "free_tickets_numbers_list[1] = 2162\n",
    "free_tickets_numbers_list[5] = 3150\n",
    "free_tickets_numbers_list[7] = 2000\n",
    "free_tickets_numbers_list[8] = 5800"
   ]
  },
  {
   "cell_type": "code",
   "execution_count": 130,
   "metadata": {},
   "outputs": [
    {
     "data": {
      "text/plain": [
       "[1988, 2162, 1375, 1029, 1078, 3150, 1603, 2000, 5800]"
      ]
     },
     "execution_count": 130,
     "metadata": {},
     "output_type": "execute_result"
    }
   ],
   "source": [
    "free_tickets_numbers_list"
   ]
  },
  {
   "cell_type": "code",
   "execution_count": 131,
   "metadata": {},
   "outputs": [],
   "source": [
    "games_id = ['Nº 09/ 23', 'Nº 29/ 23', 'Nº 129/ 23', 'Nº 139/ 23', 'Nº 179/ 23', 'Nº 198/23', 'Nº 204/ 23', 'Nº 214/23', 'Nº 215/23']"
   ]
  },
  {
   "cell_type": "code",
   "execution_count": 132,
   "metadata": {},
   "outputs": [
    {
     "data": {
      "text/plain": [
       "{'Nº 09/ 23': 1988,\n",
       " 'Nº 29/ 23': 2162,\n",
       " 'Nº 129/ 23': 1375,\n",
       " 'Nº 139/ 23': 1029,\n",
       " 'Nº 179/ 23': 1078,\n",
       " 'Nº 198/23': 3150,\n",
       " 'Nº 204/ 23': 1603,\n",
       " 'Nº 214/23': 2000,\n",
       " 'Nº 215/23': 5800}"
      ]
     },
     "execution_count": 132,
     "metadata": {},
     "output_type": "execute_result"
    }
   ],
   "source": [
    "games_id_free_tickets = {games_id[i]: free_tickets_numbers_list[i] for i in range(len(games_id))}\n",
    "games_id_free_tickets"
   ]
  },
  {
   "cell_type": "code",
   "execution_count": 133,
   "metadata": {},
   "outputs": [
    {
     "data": {
      "text/html": [
       "<div>\n",
       "<style scoped>\n",
       "    .dataframe tbody tr th:only-of-type {\n",
       "        vertical-align: middle;\n",
       "    }\n",
       "\n",
       "    .dataframe tbody tr th {\n",
       "        vertical-align: top;\n",
       "    }\n",
       "\n",
       "    .dataframe thead th {\n",
       "        text-align: right;\n",
       "    }\n",
       "</style>\n",
       "<table border=\"1\" class=\"dataframe\">\n",
       "  <thead>\n",
       "    <tr style=\"text-align: right;\">\n",
       "      <th></th>\n",
       "      <th>Game ID</th>\n",
       "      <th>Free Tickets</th>\n",
       "    </tr>\n",
       "  </thead>\n",
       "  <tbody>\n",
       "    <tr>\n",
       "      <th>0</th>\n",
       "      <td>Nº 09/ 23</td>\n",
       "      <td>1988</td>\n",
       "    </tr>\n",
       "    <tr>\n",
       "      <th>1</th>\n",
       "      <td>Nº 29/ 23</td>\n",
       "      <td>2162</td>\n",
       "    </tr>\n",
       "    <tr>\n",
       "      <th>2</th>\n",
       "      <td>Nº 129/ 23</td>\n",
       "      <td>1375</td>\n",
       "    </tr>\n",
       "    <tr>\n",
       "      <th>3</th>\n",
       "      <td>Nº 139/ 23</td>\n",
       "      <td>1029</td>\n",
       "    </tr>\n",
       "    <tr>\n",
       "      <th>4</th>\n",
       "      <td>Nº 179/ 23</td>\n",
       "      <td>1078</td>\n",
       "    </tr>\n",
       "    <tr>\n",
       "      <th>5</th>\n",
       "      <td>Nº 198/23</td>\n",
       "      <td>3150</td>\n",
       "    </tr>\n",
       "    <tr>\n",
       "      <th>6</th>\n",
       "      <td>Nº 204/ 23</td>\n",
       "      <td>1603</td>\n",
       "    </tr>\n",
       "    <tr>\n",
       "      <th>7</th>\n",
       "      <td>Nº 214/23</td>\n",
       "      <td>2000</td>\n",
       "    </tr>\n",
       "    <tr>\n",
       "      <th>8</th>\n",
       "      <td>Nº 215/23</td>\n",
       "      <td>5800</td>\n",
       "    </tr>\n",
       "  </tbody>\n",
       "</table>\n",
       "</div>"
      ],
      "text/plain": [
       "      Game ID  Free Tickets\n",
       "0   Nº 09/ 23          1988\n",
       "1   Nº 29/ 23          2162\n",
       "2  Nº 129/ 23          1375\n",
       "3  Nº 139/ 23          1029\n",
       "4  Nº 179/ 23          1078\n",
       "5   Nº 198/23          3150\n",
       "6  Nº 204/ 23          1603\n",
       "7   Nº 214/23          2000\n",
       "8   Nº 215/23          5800"
      ]
     },
     "execution_count": 133,
     "metadata": {},
     "output_type": "execute_result"
    }
   ],
   "source": [
    "df = pd.DataFrame(list(games_id_free_tickets.items()), columns = ['Game ID', 'Free Tickets'])\n",
    "df"
   ]
  },
  {
   "cell_type": "code",
   "execution_count": 128,
   "metadata": {},
   "outputs": [
    {
     "data": {
      "text/plain": [
       "[4691, [], 3234, 2177, 2323, [], 4559, [], []]"
      ]
     },
     "execution_count": 128,
     "metadata": {},
     "output_type": "execute_result"
    }
   ],
   "source": [
    "total_tickets = []\n",
    "for i in range(0,9):\n",
    "    game = pdf.pages[i]\n",
    "    game_text = game.extract_text()\n",
    "    game_text_clean = game_text.split('\\n')\n",
    "    total_tickets_buffer = []\n",
    "    for sentences in game_text_clean:\n",
    "        if 'TOTAIS' in sentences:\n",
    "            total_tickets_buffer.append(sentences)\n",
    "    total_tickets_buffer = [sentence.split()[-3] for sentence in total_tickets_buffer]\n",
    "    if not total_tickets_buffer:\n",
    "        total_tickets.append([])\n",
    "        continue\n",
    "    for numbers in range(len(total_tickets_buffer)):\n",
    "        total_tickets_buffer[numbers] = total_tickets_buffer[numbers].replace('.', '')\n",
    "        try:\n",
    "            number = int(total_tickets_buffer[numbers])\n",
    "            total_tickets.append(number)\n",
    "        except ValueError:\n",
    "            total_tickets.append([])\n",
    "            continue\n",
    "\n",
    "total_tickets"
   ]
  },
  {
   "cell_type": "code",
   "execution_count": 134,
   "metadata": {},
   "outputs": [
    {
     "data": {
      "text/plain": [
       "[4691, 2870, 3234, 2177, 2323, 10026, 4559, 44500, 23923]"
      ]
     },
     "execution_count": 134,
     "metadata": {},
     "output_type": "execute_result"
    }
   ],
   "source": [
    "total_tickets[1] = 2870\n",
    "total_tickets[5] = 10026\n",
    "total_tickets[7] = 44500\n",
    "total_tickets[8] = 23923\n",
    "\n",
    "total_tickets"
   ]
  },
  {
   "cell_type": "code",
   "execution_count": 136,
   "metadata": {},
   "outputs": [
    {
     "data": {
      "text/html": [
       "<div>\n",
       "<style scoped>\n",
       "    .dataframe tbody tr th:only-of-type {\n",
       "        vertical-align: middle;\n",
       "    }\n",
       "\n",
       "    .dataframe tbody tr th {\n",
       "        vertical-align: top;\n",
       "    }\n",
       "\n",
       "    .dataframe thead th {\n",
       "        text-align: right;\n",
       "    }\n",
       "</style>\n",
       "<table border=\"1\" class=\"dataframe\">\n",
       "  <thead>\n",
       "    <tr style=\"text-align: right;\">\n",
       "      <th></th>\n",
       "      <th>Game ID</th>\n",
       "      <th>Free Tickets</th>\n",
       "      <th>Total Tickets</th>\n",
       "      <th>Percentage of Free Tickets</th>\n",
       "      <th>Percentage of Stadium Used</th>\n",
       "    </tr>\n",
       "  </thead>\n",
       "  <tbody>\n",
       "    <tr>\n",
       "      <th>0</th>\n",
       "      <td>Nº 09/ 23</td>\n",
       "      <td>1988</td>\n",
       "      <td>4691</td>\n",
       "      <td>42.379024</td>\n",
       "      <td>10.589165</td>\n",
       "    </tr>\n",
       "    <tr>\n",
       "      <th>1</th>\n",
       "      <td>Nº 29/ 23</td>\n",
       "      <td>2162</td>\n",
       "      <td>2870</td>\n",
       "      <td>75.331010</td>\n",
       "      <td>6.478555</td>\n",
       "    </tr>\n",
       "    <tr>\n",
       "      <th>2</th>\n",
       "      <td>Nº 129/ 23</td>\n",
       "      <td>1375</td>\n",
       "      <td>3234</td>\n",
       "      <td>42.517007</td>\n",
       "      <td>7.300226</td>\n",
       "    </tr>\n",
       "    <tr>\n",
       "      <th>3</th>\n",
       "      <td>Nº 139/ 23</td>\n",
       "      <td>1029</td>\n",
       "      <td>2177</td>\n",
       "      <td>47.266881</td>\n",
       "      <td>4.914221</td>\n",
       "    </tr>\n",
       "    <tr>\n",
       "      <th>4</th>\n",
       "      <td>Nº 179/ 23</td>\n",
       "      <td>1078</td>\n",
       "      <td>2323</td>\n",
       "      <td>46.405510</td>\n",
       "      <td>5.243792</td>\n",
       "    </tr>\n",
       "    <tr>\n",
       "      <th>5</th>\n",
       "      <td>Nº 198/23</td>\n",
       "      <td>3150</td>\n",
       "      <td>10026</td>\n",
       "      <td>31.418312</td>\n",
       "      <td>22.632054</td>\n",
       "    </tr>\n",
       "    <tr>\n",
       "      <th>6</th>\n",
       "      <td>Nº 204/ 23</td>\n",
       "      <td>1603</td>\n",
       "      <td>4559</td>\n",
       "      <td>35.161220</td>\n",
       "      <td>10.291196</td>\n",
       "    </tr>\n",
       "    <tr>\n",
       "      <th>7</th>\n",
       "      <td>Nº 214/23</td>\n",
       "      <td>2000</td>\n",
       "      <td>44500</td>\n",
       "      <td>4.494382</td>\n",
       "      <td>100.451467</td>\n",
       "    </tr>\n",
       "    <tr>\n",
       "      <th>8</th>\n",
       "      <td>Nº 215/23</td>\n",
       "      <td>5800</td>\n",
       "      <td>23923</td>\n",
       "      <td>24.244451</td>\n",
       "      <td>54.002257</td>\n",
       "    </tr>\n",
       "  </tbody>\n",
       "</table>\n",
       "</div>"
      ],
      "text/plain": [
       "      Game ID  Free Tickets  Total Tickets  Percentage of Free Tickets  \\\n",
       "0   Nº 09/ 23          1988           4691                   42.379024   \n",
       "1   Nº 29/ 23          2162           2870                   75.331010   \n",
       "2  Nº 129/ 23          1375           3234                   42.517007   \n",
       "3  Nº 139/ 23          1029           2177                   47.266881   \n",
       "4  Nº 179/ 23          1078           2323                   46.405510   \n",
       "5   Nº 198/23          3150          10026                   31.418312   \n",
       "6  Nº 204/ 23          1603           4559                   35.161220   \n",
       "7   Nº 214/23          2000          44500                    4.494382   \n",
       "8   Nº 215/23          5800          23923                   24.244451   \n",
       "\n",
       "   Percentage of Stadium Used  \n",
       "0                   10.589165  \n",
       "1                    6.478555  \n",
       "2                    7.300226  \n",
       "3                    4.914221  \n",
       "4                    5.243792  \n",
       "5                   22.632054  \n",
       "6                   10.291196  \n",
       "7                  100.451467  \n",
       "8                   54.002257  "
      ]
     },
     "execution_count": 136,
     "metadata": {},
     "output_type": "execute_result"
    }
   ],
   "source": [
    "df['Total Tickets'] = total_tickets\n",
    "df['Percentage of Free Tickets'] = (df['Free Tickets'] / df['Total Tickets'])*100\n",
    "df['Percentage of Stadium Used'] = (df['Total Tickets']/44300)*100\n",
    "df \n"
   ]
  },
  {
   "cell_type": "code",
   "execution_count": 137,
   "metadata": {},
   "outputs": [
    {
     "data": {
      "text/plain": [
       "38.80197744288092"
      ]
     },
     "execution_count": 137,
     "metadata": {},
     "output_type": "execute_result"
    }
   ],
   "source": [
    "df['Percentage of Free Tickets'].mean()"
   ]
  },
  {
   "cell_type": "code",
   "execution_count": 138,
   "metadata": {},
   "outputs": [
    {
     "data": {
      "text/plain": [
       "24.655881615249562"
      ]
     },
     "execution_count": 138,
     "metadata": {},
     "output_type": "execute_result"
    }
   ],
   "source": [
    "df['Percentage of Stadium Used'].mean()"
   ]
  },
  {
   "cell_type": "code",
   "execution_count": null,
   "metadata": {},
   "outputs": [],
   "source": []
  }
 ],
 "metadata": {
  "kernelspec": {
   "display_name": "world_cup_code-dS11vxWT",
   "language": "python",
   "name": "python3"
  },
  "language_info": {
   "codemirror_mode": {
    "name": "ipython",
    "version": 3
   },
   "file_extension": ".py",
   "mimetype": "text/x-python",
   "name": "python",
   "nbconvert_exporter": "python",
   "pygments_lexer": "ipython3",
   "version": "3.11.6"
  }
 },
 "nbformat": 4,
 "nbformat_minor": 2
}
