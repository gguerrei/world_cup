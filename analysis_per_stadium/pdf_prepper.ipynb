{
 "cells": [
  {
   "cell_type": "code",
   "execution_count": 28,
   "metadata": {},
   "outputs": [],
   "source": [
    "from PIL import Image\n",
    "import pytesseract"
   ]
  },
  {
   "cell_type": "code",
   "execution_count": 24,
   "metadata": {},
   "outputs": [],
   "source": [
    "#The goal of this script is to use OCR to improve the quality of PDFs that have been scanned in as images, so that pdfplumber can extract text from them."
   ]
  },
  {
   "cell_type": "code",
   "execution_count": null,
   "metadata": {},
   "outputs": [],
   "source": [
    "#Arena da Amazonia"
   ]
  },
  {
   "cell_type": "code",
   "execution_count": 15,
   "metadata": {},
   "outputs": [],
   "source": [
    "pdf = pytesseract.image_to_pdf_or_hocr('/Users/Gui/Desktop/code/world_cup_code/PDF_stadium_usage/ARENA DA AMAZONIA/all_games_image_Page_2.png', extension='pdf')\n",
    "with open('amazonas_page_2.pdf', 'w+b') as f:\n",
    "    f.write(pdf)"
   ]
  },
  {
   "cell_type": "code",
   "execution_count": 16,
   "metadata": {},
   "outputs": [],
   "source": [
    "pdf = pytesseract.image_to_pdf_or_hocr('/Users/Gui/Desktop/code/world_cup_code/PDF_stadium_usage/ARENA DA AMAZONIA/all_games_image_Page_5.png', extension='pdf')\n",
    "with open('amazonas_page_5.pdf', 'w+b') as f:\n",
    "    f.write(pdf)"
   ]
  },
  {
   "cell_type": "code",
   "execution_count": 17,
   "metadata": {},
   "outputs": [],
   "source": [
    "pdf = pytesseract.image_to_pdf_or_hocr('/Users/Gui/Desktop/code/world_cup_code/PDF_stadium_usage/ARENA DA AMAZONIA/all_games_image_Page_6.png', extension='pdf')\n",
    "with open('amazonas_page_6.pdf', 'w+b') as f:\n",
    "    f.write(pdf)"
   ]
  },
  {
   "cell_type": "code",
   "execution_count": 18,
   "metadata": {},
   "outputs": [],
   "source": [
    "pdf = pytesseract.image_to_pdf_or_hocr('/Users/Gui/Desktop/code/world_cup_code/PDF_stadium_usage/ARENA DA AMAZONIA/all_games_image_Page_7.png', extension='pdf')\n",
    "with open('amazonas_page_7.pdf', 'w+b') as f:\n",
    "    f.write(pdf)"
   ]
  },
  {
   "cell_type": "code",
   "execution_count": 19,
   "metadata": {},
   "outputs": [],
   "source": [
    "pdf = pytesseract.image_to_pdf_or_hocr('/Users/Gui/Desktop/code/world_cup_code/PDF_stadium_usage/ARENA DA AMAZONIA/all_games_image_Page_8.png', extension='pdf')\n",
    "with open('amazonas_page_8.pdf', 'w+b') as f:\n",
    "    f.write(pdf)"
   ]
  },
  {
   "cell_type": "code",
   "execution_count": 20,
   "metadata": {},
   "outputs": [],
   "source": [
    "pdf = pytesseract.image_to_pdf_or_hocr('/Users/Gui/Desktop/code/world_cup_code/PDF_stadium_usage/ARENA DA AMAZONIA/all_games_image_Page_9.png', extension='pdf')\n",
    "with open('amazonas_page_9.pdf', 'w+b') as f:\n",
    "    f.write(pdf)"
   ]
  },
  {
   "cell_type": "code",
   "execution_count": 9,
   "metadata": {},
   "outputs": [],
   "source": [
    "#Arena das Dunas"
   ]
  },
  {
   "cell_type": "code",
   "execution_count": 10,
   "metadata": {},
   "outputs": [],
   "source": [
    "pdf = pytesseract.image_to_pdf_or_hocr('/Users/Gui/Desktop/code/world_cup_code/PDF_stadium_usage/ARENA DAS DUNAS/all_games_image_dunas_Page_01.png', extension='pdf')\n",
    "with open('dunas_page_1.pdf', 'w+b') as f:\n",
    "    f.write(pdf)"
   ]
  },
  {
   "cell_type": "code",
   "execution_count": 11,
   "metadata": {},
   "outputs": [],
   "source": [
    "pdf = pytesseract.image_to_pdf_or_hocr('/Users/Gui/Desktop/code/world_cup_code/PDF_stadium_usage/ARENA DAS DUNAS/all_games_image_dunas_Page_02.png', extension='pdf')\n",
    "with open('dunas_page_2.pdf', 'w+b') as f:\n",
    "    f.write(pdf)"
   ]
  },
  {
   "cell_type": "code",
   "execution_count": 12,
   "metadata": {},
   "outputs": [],
   "source": [
    "pdf = pytesseract.image_to_pdf_or_hocr('/Users/Gui/Desktop/code/world_cup_code/PDF_stadium_usage/ARENA DAS DUNAS/all_games_image_dunas_Page_03.png', extension='pdf')\n",
    "with open('dunas_page_3.pdf', 'w+b') as f:\n",
    "    f.write(pdf)"
   ]
  },
  {
   "cell_type": "code",
   "execution_count": 13,
   "metadata": {},
   "outputs": [],
   "source": [
    "pdf = pytesseract.image_to_pdf_or_hocr('/Users/Gui/Desktop/code/world_cup_code/PDF_stadium_usage/ARENA DAS DUNAS/all_games_image_dunas_Page_04.png', extension='pdf')\n",
    "with open('dunas_page_4.pdf', 'w+b') as f:\n",
    "    f.write(pdf)"
   ]
  },
  {
   "cell_type": "code",
   "execution_count": 14,
   "metadata": {},
   "outputs": [],
   "source": [
    "pdf = pytesseract.image_to_pdf_or_hocr('/Users/Gui/Desktop/code/world_cup_code/PDF_stadium_usage/ARENA DAS DUNAS/all_games_image_dunas_Page_05.png', extension='pdf')\n",
    "with open('dunas_page_5.pdf', 'w+b') as f:\n",
    "    f.write(pdf)"
   ]
  },
  {
   "cell_type": "code",
   "execution_count": 15,
   "metadata": {},
   "outputs": [],
   "source": [
    "pdf = pytesseract.image_to_pdf_or_hocr('/Users/Gui/Desktop/code/world_cup_code/PDF_stadium_usage/ARENA DAS DUNAS/all_games_image_dunas_Page_06.png', extension='pdf')\n",
    "with open('dunas_page_6.pdf', 'w+b') as f:\n",
    "    f.write(pdf)"
   ]
  },
  {
   "cell_type": "code",
   "execution_count": 16,
   "metadata": {},
   "outputs": [],
   "source": [
    "pdf = pytesseract.image_to_pdf_or_hocr('/Users/Gui/Desktop/code/world_cup_code/PDF_stadium_usage/ARENA DAS DUNAS/all_games_image_dunas_Page_07.png', extension='pdf')\n",
    "with open('dunas_page_7.pdf', 'w+b') as f:\n",
    "    f.write(pdf)"
   ]
  },
  {
   "cell_type": "code",
   "execution_count": 17,
   "metadata": {},
   "outputs": [],
   "source": [
    "pdf = pytesseract.image_to_pdf_or_hocr('/Users/Gui/Desktop/code/world_cup_code/PDF_stadium_usage/ARENA DAS DUNAS/all_games_image_dunas_Page_08.png', extension='pdf')\n",
    "with open('dunas_page_8.pdf', 'w+b') as f:\n",
    "    f.write(pdf)"
   ]
  },
  {
   "cell_type": "code",
   "execution_count": 18,
   "metadata": {},
   "outputs": [],
   "source": [
    "pdf = pytesseract.image_to_pdf_or_hocr('/Users/Gui/Desktop/code/world_cup_code/PDF_stadium_usage/ARENA DAS DUNAS/all_games_image_dunas_Page_09.png', extension='pdf')\n",
    "with open('dunas_page_9.pdf', 'w+b') as f:\n",
    "    f.write(pdf)"
   ]
  },
  {
   "cell_type": "code",
   "execution_count": 19,
   "metadata": {},
   "outputs": [],
   "source": [
    "pdf = pytesseract.image_to_pdf_or_hocr('/Users/Gui/Desktop/code/world_cup_code/PDF_stadium_usage/ARENA DAS DUNAS/all_games_image_dunas_Page_10.png', extension='pdf')\n",
    "with open('dunas_page_10.pdf', 'w+b') as f:\n",
    "    f.write(pdf)"
   ]
  },
  {
   "cell_type": "code",
   "execution_count": 20,
   "metadata": {},
   "outputs": [],
   "source": [
    "pdf = pytesseract.image_to_pdf_or_hocr('/Users/Gui/Desktop/code/world_cup_code/PDF_stadium_usage/ARENA DAS DUNAS/all_games_image_dunas_Page_11.png', extension='pdf')\n",
    "with open('dunas_page_11.pdf', 'w+b') as f:\n",
    "    f.write(pdf)"
   ]
  },
  {
   "cell_type": "code",
   "execution_count": 21,
   "metadata": {},
   "outputs": [],
   "source": [
    "pdf = pytesseract.image_to_pdf_or_hocr('/Users/Gui/Desktop/code/world_cup_code/PDF_stadium_usage/ARENA DAS DUNAS/all_games_image_dunas_Page_12.png', extension='pdf')\n",
    "with open('dunas_page_12.pdf', 'w+b') as f:\n",
    "    f.write(pdf)"
   ]
  },
  {
   "cell_type": "code",
   "execution_count": 22,
   "metadata": {},
   "outputs": [],
   "source": [
    "pdf = pytesseract.image_to_pdf_or_hocr('/Users/Gui/Desktop/code/world_cup_code/PDF_stadium_usage/ARENA DAS DUNAS/all_games_image_dunas_Page_13.png', extension='pdf')\n",
    "with open('dunas_page_13.pdf', 'w+b') as f:\n",
    "    f.write(pdf)"
   ]
  },
  {
   "cell_type": "code",
   "execution_count": 23,
   "metadata": {},
   "outputs": [],
   "source": [
    "pdf = pytesseract.image_to_pdf_or_hocr('/Users/Gui/Desktop/code/world_cup_code/PDF_stadium_usage/ARENA DAS DUNAS/all_games_image_dunas_Page_14.png', extension='pdf')\n",
    "with open('dunas_page_14.pdf', 'w+b') as f:\n",
    "    f.write(pdf)"
   ]
  },
  {
   "cell_type": "code",
   "execution_count": null,
   "metadata": {},
   "outputs": [],
   "source": [
    "#Mane Garrincha"
   ]
  },
  {
   "cell_type": "code",
   "execution_count": 26,
   "metadata": {},
   "outputs": [],
   "source": [
    "pdf = pytesseract.image_to_pdf_or_hocr('/Users/Gui/Desktop/code/world_cup_code/PDF_stadium_usage/MANE GARRINCHA/all_games_image_garrincha.png', extension='pdf')\n",
    "with open('garrincha.pdf', 'w+b') as f:\n",
    "    f.write(pdf)"
   ]
  }
 ],
 "metadata": {
  "kernelspec": {
   "display_name": "world_cup_code-dS11vxWT",
   "language": "python",
   "name": "python3"
  },
  "language_info": {
   "codemirror_mode": {
    "name": "ipython",
    "version": 3
   },
   "file_extension": ".py",
   "mimetype": "text/x-python",
   "name": "python",
   "nbconvert_exporter": "python",
   "pygments_lexer": "ipython3",
   "version": "3.11.6"
  }
 },
 "nbformat": 4,
 "nbformat_minor": 2
}
