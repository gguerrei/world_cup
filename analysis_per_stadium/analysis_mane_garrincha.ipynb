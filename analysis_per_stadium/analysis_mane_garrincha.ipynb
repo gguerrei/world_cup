{
 "cells": [
  {
   "cell_type": "code",
   "execution_count": 10,
   "metadata": {},
   "outputs": [],
   "source": [
    "import pdfplumber\n",
    "import pandas as pd \n",
    "import easyocr\n",
    "reader = easyocr.Reader(['pt','en'])\n",
    "import csv"
   ]
  },
  {
   "cell_type": "code",
   "execution_count": 4,
   "metadata": {},
   "outputs": [],
   "source": [
    "pdf = pdfplumber.open('/Users/Gui/Desktop/code/world_cup_code/PDF_stadium_usage/MANE GARRINCHA/garrincha.pdf')"
   ]
  },
  {
   "cell_type": "code",
   "execution_count": 5,
   "metadata": {},
   "outputs": [
    {
     "name": "stdout",
     "output_type": "stream",
     "text": [
      "Gaz FEDERACAO DE FUTEBOL DO ESTADO DO RIO DE JANEIRO.\n",
      "‘BOLETIM FINANCEDOI RJOOGO REAUZADOEM __01 de novembro de 2023\n",
      "s\n",
      "s\n",
      "s\n",
      "e\n",
      "A\n",
      "S\n",
      "S\n",
      "S\n",
      "A\n",
      "M\n",
      "S\n",
      "A\n",
      "Tes ormcone asad\n",
      "Hees Frc\n",
      "pre sa\n",
      "i cums —y cS\n",
      "=== Ss ae\n",
      "ants Dazed SaSTSS OTTO bse TS To OTIS BS ADT HRT OTE\n"
     ]
    }
   ],
   "source": [
    "first_game = pdf.pages[0]\n",
    "first_game_text = first_game.extract_text()\n",
    "print(first_game_text)"
   ]
  },
  {
   "cell_type": "code",
   "execution_count": 9,
   "metadata": {},
   "outputs": [
    {
     "data": {
      "text/plain": [
       "['UFER',\n",
       " 'FEDERAÇAO DE FUTEBOL DO ESTADO DO RIO DE JANEIRO',\n",
       " 'vulliin',\n",
       " 'FinanceiRo DOJOGOREAIZADOEM',\n",
       " 'donorcmbio',\n",
       " '1023',\n",
       " 'crfuMinco',\n",
       " 'anioec',\n",
       " 'Siadio; Kiori 82 @ela',\n",
       " 'cecpriloilyuel',\n",
       " 'Oigul',\n",
       " 'arairioo',\n",
       " 'ociin na',\n",
       " 'a e',\n",
       " 'Irevrnoroonl',\n",
       " 'Inlerilla Ji',\n",
       " '[OCAL',\n",
       " 'Campionaio aalilliro Suul ^d0}',\n",
       " 'MAAlUAen',\n",
       " 'inoklssob',\n",
       " 'LoraluaCio',\n",
       " 'Ciuaiul',\n",
       " 'ain',\n",
       " 'UnuALO',\n",
       " 'A',\n",
       " 'oova hoanlodhe',\n",
       " 'SMlMVao',\n",
       " '1~Nona/Buivaa',\n",
       " '0 0o',\n",
       " 'oN',\n",
       " 'oleuVon',\n",
       " 'na',\n",
       " '4',\n",
       " 'Gde nsn',\n",
       " 'Lu',\n",
       " 'inoVoNore',\n",
       " 'uno Vo Nona 5 ',\n",
       " 'osiecia',\n",
       " 'aninooonle',\n",
       " '9LO',\n",
       " 'OMafaarovalionoeie',\n",
       " 'BicloLalori',\n",
       " 'r',\n",
       " 'LoeD',\n",
       " '3oeoc',\n",
       " '7oon0',\n",
       " 'StaAUtMADOAL',\n",
       " 'aao',\n",
       " 'Opuaopeseneirei',\n",
       " '7a7a 56',\n",
       " 'VUeAhale',\n",
       " 'aoaino',\n",
       " 'osoucula',\n",
       " 'ATALhUUUHt',\n",
       " 'Ianenonsunlonailiofrsa',\n",
       " 'Opld [etuiteol Disiaiiofecer',\n",
       " '135 ceane',\n",
       " 'Fld[ltuiluusiNocteAA',\n",
       " 'ROOOco',\n",
       " 'ioialasoispesas',\n",
       " '5aEAAn',\n",
       " '1031 10',\n",
       " 'MesMnarAeenioonocer',\n",
       " 'oaenein',\n",
       " '755 1139 DILICADO',\n",
       " 'APidl',\n",
       " 'IoiALReilKCOLS',\n",
       " 'ecevalilJilabahtae [ouidabocfdc',\n",
       " '5557274',\n",
       " 'PeaiaoaoorAa{',\n",
       " 'DeveHAe',\n",
       " 'NA',\n",
       " 'Guels',\n",
       " 'Lorder',\n",
       " 'earuaeno(ofioimocordo',\n",
       " 'Zocoojop',\n",
       " '20on',\n",
       " 'Cornnvronlormeeordo',\n",
       " 'fad',\n",
       " ' ',\n",
       " 'Rvicotstaktun',\n",
       " 'Doderb 0o0ieoc Icngn+0',\n",
       " 'coconir',\n",
       " 'JanJe{vir MUra Barox']"
      ]
     },
     "execution_count": 9,
     "metadata": {},
     "output_type": "execute_result"
    }
   ],
   "source": [
    "result = reader.readtext('/Users/Gui/Desktop/code/world_cup_code/PDF_stadium_usage/MANE GARRINCHA/all_games_image_garrincha.png', detail = 0)\n",
    "result"
   ]
  },
  {
   "cell_type": "code",
   "execution_count": null,
   "metadata": {},
   "outputs": [],
   "source": [
    "#Once again, the OCR is not able to read the text from the image. For the sake of this project, I used Google PinPoint to generate a CSV containing the accurate data."
   ]
  },
  {
   "cell_type": "code",
   "execution_count": 21,
   "metadata": {},
   "outputs": [
    {
     "name": "stdout",
     "output_type": "stream",
     "text": [
      "4579\n"
     ]
    }
   ],
   "source": [
    "tickets = csv.reader(open('/Users/Gui/Desktop/code/world_cup_code/PDF_stadium_usage/MANE GARRINCHA/mane garrincha.csv', 'r'))\n",
    "tickets = list(tickets)\n",
    "free_tickets = tickets[24]\n",
    "free_tickets = free_tickets[4]\n",
    "free_tickets = free_tickets.replace('.', '') \n",
    "free_tickets = int(free_tickets)\n",
    "print(free_tickets)"
   ]
  },
  {
   "cell_type": "code",
   "execution_count": 25,
   "metadata": {},
   "outputs": [
    {
     "name": "stdout",
     "output_type": "stream",
     "text": [
      "64708\n"
     ]
    }
   ],
   "source": [
    "tickets = csv.reader(open('/Users/Gui/Desktop/code/world_cup_code/PDF_stadium_usage/MANE GARRINCHA/mane garrincha.csv', 'r'))\n",
    "tickets = list(tickets)\n",
    "total_tickets = tickets[25]\n",
    "total_tickets = total_tickets[4]\n",
    "total_tickets = total_tickets.replace('.', '') \n",
    "total_tickets = int(total_tickets)\n",
    "print(total_tickets)"
   ]
  },
  {
   "cell_type": "code",
   "execution_count": 26,
   "metadata": {},
   "outputs": [],
   "source": [
    "game_id = 'BF 60'\n",
    "game_id_free_tickets = {game_id: free_tickets}"
   ]
  },
  {
   "cell_type": "code",
   "execution_count": 28,
   "metadata": {},
   "outputs": [
    {
     "data": {
      "text/html": [
       "<div>\n",
       "<style scoped>\n",
       "    .dataframe tbody tr th:only-of-type {\n",
       "        vertical-align: middle;\n",
       "    }\n",
       "\n",
       "    .dataframe tbody tr th {\n",
       "        vertical-align: top;\n",
       "    }\n",
       "\n",
       "    .dataframe thead th {\n",
       "        text-align: right;\n",
       "    }\n",
       "</style>\n",
       "<table border=\"1\" class=\"dataframe\">\n",
       "  <thead>\n",
       "    <tr style=\"text-align: right;\">\n",
       "      <th></th>\n",
       "      <th>Game ID</th>\n",
       "      <th>Free Tickets</th>\n",
       "      <th>Total Tickets</th>\n",
       "      <th>Percentage of Free Tickets</th>\n",
       "      <th>Percentage of Stadium Used</th>\n",
       "    </tr>\n",
       "  </thead>\n",
       "  <tbody>\n",
       "    <tr>\n",
       "      <th>0</th>\n",
       "      <td>BF 60</td>\n",
       "      <td>4579</td>\n",
       "      <td>64708</td>\n",
       "      <td>7.076405</td>\n",
       "      <td>89.006878</td>\n",
       "    </tr>\n",
       "  </tbody>\n",
       "</table>\n",
       "</div>"
      ],
      "text/plain": [
       "  Game ID  Free Tickets  Total Tickets  Percentage of Free Tickets  \\\n",
       "0   BF 60          4579          64708                    7.076405   \n",
       "\n",
       "   Percentage of Stadium Used  \n",
       "0                   89.006878  "
      ]
     },
     "execution_count": 28,
     "metadata": {},
     "output_type": "execute_result"
    }
   ],
   "source": [
    "df = pd.DataFrame(game_id_free_tickets.items(), columns = ['Game ID', 'Free Tickets'])\n",
    "df['Total Tickets'] = total_tickets\n",
    "df['Percentage of Free Tickets'] = (df['Free Tickets'] / df['Total Tickets']) * 100\n",
    "df['Percentage of Stadium Used'] = (df['Total Tickets'] /72700 ) * 100\n",
    "df"
   ]
  },
  {
   "cell_type": "code",
   "execution_count": null,
   "metadata": {},
   "outputs": [],
   "source": []
  }
 ],
 "metadata": {
  "kernelspec": {
   "display_name": "world_cup_code-dS11vxWT",
   "language": "python",
   "name": "python3"
  },
  "language_info": {
   "codemirror_mode": {
    "name": "ipython",
    "version": 3
   },
   "file_extension": ".py",
   "mimetype": "text/x-python",
   "name": "python",
   "nbconvert_exporter": "python",
   "pygments_lexer": "ipython3",
   "version": "3.11.6"
  }
 },
 "nbformat": 4,
 "nbformat_minor": 2
}
